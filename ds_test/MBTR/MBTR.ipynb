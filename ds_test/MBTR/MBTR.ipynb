{
 "cells": [
  {
   "cell_type": "code",
   "execution_count": 1,
   "id": "56feb71b",
   "metadata": {},
   "outputs": [],
   "source": [
    "import numpy as np\n",
    "from ase.io import read\n",
    "from ase.build import molecule\n",
    "from ase import Atoms\n",
    "import pandas as pd"
   ]
  },
  {
   "cell_type": "code",
   "execution_count": 2,
   "id": "5d06f2da",
   "metadata": {},
   "outputs": [],
   "source": [
    "from dscribe.descriptors import MBTR\n",
    "species = [\"H\",\"He\",\"Li\",\"Be\",\"B\",\"C\",\"N\",\"O\",\"F\",\"Ne\",\"Na\",\"Mg\",\"Al\",\"Si\",\"P\",\"S\",\"Cl\",\"Ar\",\"K\",\"Ca\",\"Sc\",\"Ti\",\"V\",\"Cr\",\"Mn\",\"Fe\",\"Co\",\"Ni\",\"Cu\",\"Zn\",\"Ga\",\"Ge\",\"As\",\"Se\",\"Br\",\"Kr\",\"Rb\",\"Sr\",\"Y\",\"Zr\",\"Nb\",\"Mo\",\"Tc\",\"Ru\",\"Rh\",\"Pd\",\"Ag\",\"Cd\",\"In\",\"Sn\",\"Sb\",\"Te\",\"I\",\"Xe\",\"Cs\",\"Ba\",\"La\",\"Ce\",\"Pr\",\"Nd\",\"Pm\",\"Sm\",\"Eu\",\"Gd\",\"Tb\",\"Dy\",\"Ho\",\"Er\",\"Tm\",\"Yb\",\"Lu\",\"Hf\",\"Ta\",\"W\",\"Re\",\"Os\",\"Ir\",\"Pt\",\"Au\",\"Hg\",\"Tl\",\"Pb\",\"Bi\",\"Po\",\"At\",\"Rn\",\"Fr\",\"Ra\",\"Ac\",\"Th\",\"Pa\",\"U\",\"Np\",\"Pu\",\"Am\",\"Cm\",\"Bk\",\"Cf\",\"Es\",\"Fm\",\"Md\",\"No\",\"Lr\",\"Rf\",\"Db\",\"Sg\",\"Bh\",\"Hs\",\"Mt\",\"Ds\",\"Rg\",\"Cn\",\"Nh\",\"Fl\",\"Mc\",\"Lv\",\"Ts\",\"Og\"]\n",
    "#rcut = 4.0\n",
    "# Setup\n",
    "mbtr = MBTR(\n",
    "    species=species,\n",
    "    k1={\n",
    "        \"geometry\": {\"function\": \"atomic_number\"},\n",
    "        \"grid\": {\"min\": 0, \"max\": 8, \"n\": 100, \"sigma\": 0.1},\n",
    "    },\n",
    "    k2={\n",
    "        \"geometry\": {\"function\": \"inverse_distance\"},\n",
    "        \"grid\": {\"min\": 0, \"max\": 1, \"n\": 100, \"sigma\": 0.1},\n",
    "        \"weighting\": {\"function\": \"exp\", \"scale\": 0.5, \"threshold\": 1e-3},\n",
    "    },\n",
    "    k3={\n",
    "        \"geometry\": {\"function\": \"cosine\"},\n",
    "        \"grid\": {\"min\": -1, \"max\": 1, \"n\": 100, \"sigma\": 0.1},\n",
    "        \"weighting\": {\"function\": \"exp\", \"scale\": 0.5, \"threshold\": 1e-3},\n",
    "    },\n",
    "    periodic=True,\n",
    "    normalization='none',\n",
    "    sparse=False,\n",
    ")\n"
   ]
  },
  {
   "cell_type": "code",
   "execution_count": 3,
   "id": "543ecb5f",
   "metadata": {},
   "outputs": [],
   "source": [
    "import os\n",
    "cifs = [i for i in os.listdir(\"./all_cif\") if \".cif\" in i][:20]"
   ]
  },
  {
   "cell_type": "code",
   "execution_count": 4,
   "id": "c21b799e",
   "metadata": {},
   "outputs": [
    {
     "data": {
      "text/plain": [
       "'mp-1070394.cif'"
      ]
     },
     "execution_count": 4,
     "metadata": {},
     "output_type": "execute_result"
    }
   ],
   "source": [
    "cifs[0]"
   ]
  },
  {
   "cell_type": "code",
   "execution_count": 5,
   "id": "48b70838",
   "metadata": {},
   "outputs": [],
   "source": [
    "for i in cifs:\n",
    "    struc = read(\"./all_cif/\"+i)\n",
    "    try:\n",
    "        mbs = mbtr.create(struc,n_jobs=-1)\n",
    "        #data = pd.Series(mbs.tolist())\n",
    "        #data.to_csv(r\"mbtr_test1.csv\",mode = 'a',index =False)\n",
    "    except:\n",
    "        print(struc)\n",
    "    "
   ]
  },
  {
   "cell_type": "code",
   "execution_count": 6,
   "id": "05e4da3d",
   "metadata": {},
   "outputs": [],
   "source": [
    "mbs = mbtr.create(read(\"./all_cif/\"+cifs[0]),n_jobs=-1)"
   ]
  },
  {
   "cell_type": "code",
   "execution_count": 7,
   "id": "f46f459f",
   "metadata": {},
   "outputs": [
    {
     "data": {
      "text/plain": [
       "83561700"
      ]
     },
     "execution_count": 7,
     "metadata": {},
     "output_type": "execute_result"
    }
   ],
   "source": [
    "len(mbs)"
   ]
  },
  {
   "cell_type": "code",
   "execution_count": null,
   "id": "bbfde0b5",
   "metadata": {},
   "outputs": [],
   "source": [
    "pd.Series(mbs.tolist()).to_csv(r\"mbtr_test1.csv\",mode = 'a',index =False)"
   ]
  },
  {
   "cell_type": "code",
   "execution_count": null,
   "id": "f5959644",
   "metadata": {},
   "outputs": [],
   "source": []
  }
 ],
 "metadata": {
  "kernelspec": {
   "display_name": "Python 3",
   "language": "python",
   "name": "python3"
  },
  "language_info": {
   "codemirror_mode": {
    "name": "ipython",
    "version": 3
   },
   "file_extension": ".py",
   "mimetype": "text/x-python",
   "name": "python",
   "nbconvert_exporter": "python",
   "pygments_lexer": "ipython3",
   "version": "3.8.8"
  },
  "toc": {
   "base_numbering": 1,
   "nav_menu": {},
   "number_sections": true,
   "sideBar": true,
   "skip_h1_title": false,
   "title_cell": "Table of Contents",
   "title_sidebar": "Contents",
   "toc_cell": false,
   "toc_position": {},
   "toc_section_display": true,
   "toc_window_display": false
  }
 },
 "nbformat": 4,
 "nbformat_minor": 5
}
